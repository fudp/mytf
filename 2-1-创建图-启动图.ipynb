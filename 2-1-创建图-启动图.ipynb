{
 "cells": [
  {
   "cell_type": "code",
   "execution_count": 8,
   "metadata": {},
   "outputs": [
    {
     "name": "stdout",
     "output_type": "stream",
     "text": [
      "Tensor(\"MatMul_6:0\", shape=(1, 1), dtype=int32)\n",
      "[[15]]\n"
     ]
    }
   ],
   "source": [
    "import tensorflow as tf\n",
    "\n",
    "# 创建一个常量op\n",
    "# 一行两列\n",
    "m1 = tf.constant([[3, 3]])\n",
    "# 两行一列\n",
    "m2 = tf.constant([[2], [3]])\n",
    "\n",
    "# 创建一个矩阵乘法op，将m1和m2传入\n",
    "product = tf.matmul(m1, m2)\n",
    "print(product)\n",
    "\n",
    "# 定义一个回话，启动默认的图\n",
    "# with tf.Session() as sess\n",
    "sess = tf.Session()\n",
    "\n",
    "# 调用sess的run方法来执行矩阵乘法op\n",
    "# run方法触发了图中的三个op\n",
    "result = sess.run(product)\n",
    "print(result)\n",
    "sess.close()"
   ]
  },
  {
   "cell_type": "code",
   "execution_count": null,
   "metadata": {},
   "outputs": [],
   "source": []
  }
 ],
 "metadata": {
  "kernelspec": {
   "display_name": "Python 3",
   "language": "python",
   "name": "python3"
  },
  "language_info": {
   "codemirror_mode": {
    "name": "ipython",
    "version": 3
   },
   "file_extension": ".py",
   "mimetype": "text/x-python",
   "name": "python",
   "nbconvert_exporter": "python",
   "pygments_lexer": "ipython3",
   "version": "3.5.2"
  }
 },
 "nbformat": 4,
 "nbformat_minor": 2
}
